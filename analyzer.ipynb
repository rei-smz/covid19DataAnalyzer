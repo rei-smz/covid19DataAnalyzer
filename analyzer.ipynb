{
 "cells": [
  {
   "cell_type": "markdown",
   "metadata": {},
   "source": [
    "# Covid19 Analyzer\n",
    "数据分析和展示应包括:\n",
    "\n",
    "1) 15 天中，全球新冠疫情的总体变化趋势;\n",
    "\n",
    "2) 15 天中，每日新增确诊数累计排名前 10 个国家的每日新增确诊数据的曲线图;\n",
    "\n",
    "3) 累计确诊数排名前 10 的国家名称及其数量;\n",
    "\n",
    "4) 用饼图展示各个国家的累计确诊人数的比例(你爬取的所有国家，数据较小的国家\n",
    "可以合并处理);\n",
    "\n",
    "5) 累计确诊人数占国家总人口比例最高的 10 个国家;\n",
    "\n",
    "6) 疫苗接种情况(至少接种了一针及以上)，请用地图形式展示;\n",
    "\n",
    "7) 疫苗接种率(累计疫苗接种人数/国家人数)最低的 10 个国家;\n",
    "\n",
    "8) 全球 GDP 前十名国家的累计确诊人数箱型图，要有平均值;\n",
    "\n",
    "9) 死亡率最高的 10 个国家;\n",
    "\n",
    "10) 其它你希望分析和展示的数据。\n",
    "\n",
    "以上图形应包括完整的坐标、刻度、标签、图例等，如有必要请配上说明文字，对\n",
    "图中的内容进行解释。\n",
    "\n",
    "根据以上数据，列出全世界应对新冠疫情最好的 10 个国家，并说明你的理由。\n",
    "\n",
    "针对全球累计确诊数，利用前 10 天采集到的数据做后 5 天的预测，并与实际数据进行对比。说明你预测的方法，并分析与实际数据的差距和原因。"
   ]
  },
  {
   "cell_type": "markdown",
   "metadata": {},
   "source": [
    "## 导入数据"
   ]
  },
  {
   "cell_type": "code",
   "execution_count": 22,
   "metadata": {
    "pycharm": {
     "name": "#%%\n"
    }
   },
   "outputs": [
    {
     "name": "stdout",
     "output_type": "stream",
     "text": [
      "1 files imported\n"
     ]
    }
   ],
   "source": [
    "import pandas as pd\n",
    "\n",
    "dfs = []\n",
    "for i in range(1, 2):\n",
    "    df = pd.read_csv('./dataFetcher/day' + str(i) + '_data.csv').sort_values('confirmed', ascending=False).reset_index(drop=True)\n",
    "\n",
    "    # 保存为float便于计算\n",
    "    df['confirmed'].astype(float)\n",
    "    df['deceased'].astype(float)\n",
    "    df['active'].astype(float)\n",
    "    df['recovered'].astype(float)\n",
    "    df['vaccinated'].astype(float)\n",
    "    df['population'].astype(float)\n",
    "\n",
    "    dfs.append(df)\n",
    "len_dfs = len(dfs)\n",
    "print(f'{len_dfs} files imported')"
   ]
  },
  {
   "cell_type": "markdown",
   "metadata": {},
   "source": [
    "## 计算新增数据"
   ]
  },
  {
   "cell_type": "code",
   "execution_count": 23,
   "metadata": {
    "pycharm": {
     "name": "#%%\n"
    }
   },
   "outputs": [],
   "source": [
    "dfs[0]['new_confirmed'] = 0\n",
    "\n",
    "for i in range(1, len_dfs):\n",
    "    dfs[i]['new_confirmed'] = dfs[i]['confirmed'] - dfs[i - 1]['confirmed']\n",
    "    print(dfs[i])"
   ]
  },
  {
   "cell_type": "markdown",
   "metadata": {},
   "source": [
    "## 计算新增排名"
   ]
  },
  {
   "cell_type": "code",
   "execution_count": 1,
   "metadata": {
    "pycharm": {
     "name": "#%%\n"
    }
   },
   "outputs": [
    {
     "ename": "NameError",
     "evalue": "name 'pd' is not defined",
     "output_type": "error",
     "traceback": [
      "\u001B[0;31m---------------------------------------------------------------------------\u001B[0m",
      "\u001B[0;31mNameError\u001B[0m                                 Traceback (most recent call last)",
      "\u001B[0;32m/var/folders/g1/hm9bx3m91jbfbb6m27xsx5n40000gn/T/ipykernel_16092/847455388.py\u001B[0m in \u001B[0;36m<module>\u001B[0;34m\u001B[0m\n\u001B[0;32m----> 1\u001B[0;31m \u001B[0maccu_nc\u001B[0m \u001B[0;34m=\u001B[0m \u001B[0mpd\u001B[0m\u001B[0;34m.\u001B[0m\u001B[0mDataFrame\u001B[0m\u001B[0;34m(\u001B[0m\u001B[0mdfs\u001B[0m\u001B[0;34m[\u001B[0m\u001B[0;36m0\u001B[0m\u001B[0;34m]\u001B[0m\u001B[0;34m[\u001B[0m\u001B[0;34m'new_confirmed'\u001B[0m\u001B[0;34m]\u001B[0m\u001B[0;34m)\u001B[0m\u001B[0;34m\u001B[0m\u001B[0;34m\u001B[0m\u001B[0m\n\u001B[0m\u001B[1;32m      2\u001B[0m \u001B[0maccu_nc\u001B[0m\u001B[0;34m.\u001B[0m\u001B[0mrename\u001B[0m\u001B[0;34m(\u001B[0m\u001B[0mcolumns\u001B[0m\u001B[0;34m=\u001B[0m\u001B[0;34m{\u001B[0m\u001B[0;34m'new_confirmed'\u001B[0m\u001B[0;34m:\u001B[0m \u001B[0;34m'day1'\u001B[0m\u001B[0;34m}\u001B[0m\u001B[0;34m,\u001B[0m \u001B[0minplace\u001B[0m\u001B[0;34m=\u001B[0m\u001B[0;32mTrue\u001B[0m\u001B[0;34m)\u001B[0m\u001B[0;34m\u001B[0m\u001B[0;34m\u001B[0m\u001B[0m\n\u001B[1;32m      3\u001B[0m \u001B[0;32mfor\u001B[0m \u001B[0mi\u001B[0m \u001B[0;32min\u001B[0m \u001B[0mrange\u001B[0m\u001B[0;34m(\u001B[0m\u001B[0;36m1\u001B[0m\u001B[0;34m,\u001B[0m \u001B[0mlen_dfs\u001B[0m\u001B[0;34m)\u001B[0m\u001B[0;34m:\u001B[0m\u001B[0;34m\u001B[0m\u001B[0;34m\u001B[0m\u001B[0m\n\u001B[1;32m      4\u001B[0m     \u001B[0maccu_nc\u001B[0m \u001B[0;34m=\u001B[0m \u001B[0mpd\u001B[0m\u001B[0;34m.\u001B[0m\u001B[0mconcat\u001B[0m\u001B[0;34m(\u001B[0m\u001B[0;34m[\u001B[0m\u001B[0maccu_nc\u001B[0m\u001B[0;34m,\u001B[0m \u001B[0mdfs\u001B[0m\u001B[0;34m[\u001B[0m\u001B[0mi\u001B[0m\u001B[0;34m]\u001B[0m\u001B[0;34m[\u001B[0m\u001B[0;34m'new_confirmed'\u001B[0m\u001B[0;34m]\u001B[0m\u001B[0;34m]\u001B[0m\u001B[0;34m,\u001B[0m \u001B[0maxis\u001B[0m\u001B[0;34m=\u001B[0m\u001B[0;36m1\u001B[0m\u001B[0;34m)\u001B[0m\u001B[0;34m\u001B[0m\u001B[0;34m\u001B[0m\u001B[0m\n\u001B[1;32m      5\u001B[0m     \u001B[0maccu_nc\u001B[0m\u001B[0;34m.\u001B[0m\u001B[0mrename\u001B[0m\u001B[0;34m(\u001B[0m\u001B[0mcolumns\u001B[0m\u001B[0;34m=\u001B[0m\u001B[0;34m{\u001B[0m\u001B[0;34m'new_confirmed'\u001B[0m\u001B[0;34m:\u001B[0m \u001B[0;34m'day'\u001B[0m \u001B[0;34m+\u001B[0m \u001B[0mstr\u001B[0m\u001B[0;34m(\u001B[0m\u001B[0mi\u001B[0m \u001B[0;34m+\u001B[0m \u001B[0;36m1\u001B[0m\u001B[0;34m)\u001B[0m\u001B[0;34m}\u001B[0m\u001B[0;34m,\u001B[0m \u001B[0minplace\u001B[0m\u001B[0;34m=\u001B[0m\u001B[0;32mTrue\u001B[0m\u001B[0;34m)\u001B[0m\u001B[0;34m\u001B[0m\u001B[0;34m\u001B[0m\u001B[0m\n",
      "\u001B[0;31mNameError\u001B[0m: name 'pd' is not defined"
     ]
    }
   ],
   "source": [
    "accu_nc = pd.DataFrame(dfs[0]['new_confirmed'])\n",
    "accu_nc.rename(columns={'new_confirmed': 'day1'}, inplace=True)\n",
    "for i in range(1, len_dfs):\n",
    "    accu_nc = pd.concat([accu_nc, dfs[i]['new_confirmed']], axis=1)\n",
    "    accu_nc.rename(columns={'new_confirmed': 'day' + str(i + 1)}, inplace=True)\n",
    "\n",
    "\n",
    "accu_nc['total'] = 0\n",
    "for i in range(len_dfs):\n",
    "    accu_nc['total'] += accu_nc['day' + str(i + 1)]\n",
    "\n",
    "accu_nc = pd.concat([dfs[0]['region'], accu_nc], axis=1)\n",
    "accu_nc = accu_nc.sort_values('total', ascending=False).reset_index(drop=True)\n",
    "print(accu_nc[1:11])"
   ]
  },
  {
   "cell_type": "markdown",
   "metadata": {},
   "source": [
    "## 计算确诊率/死亡率/疫苗接种率"
   ]
  },
  {
   "cell_type": "code",
   "execution_count": 25,
   "metadata": {
    "pycharm": {
     "name": "#%%\n"
    }
   },
   "outputs": [
    {
     "name": "stdout",
     "output_type": "stream",
     "text": [
      "                   region    confirmed   deceased      active    recovered  \\\n",
      "0                   World  270426226.0  5321864.0  23517119.0  241335916.0   \n",
      "1           United States   50801455.0   817956.0   9979825.0   40003674.0   \n",
      "2                   India   34694142.0   475434.0     95913.0   34122795.0   \n",
      "3                  Brazil   22189867.0   616941.0    158608.0   21414318.0   \n",
      "4          United Kingdom   10819515.0   146439.0   1182669.0    9490407.0   \n",
      "..                    ...          ...        ...         ...          ...   \n",
      "221                 Tonga          1.0        NaN         NaN          1.0   \n",
      "222            Micronesia          1.0        NaN         NaN          1.0   \n",
      "223              Kiribati          NaN        NaN         NaN          NaN   \n",
      "224  Summer Olympics 2020          NaN        NaN         NaN          NaN   \n",
      "225                 Spain          NaN        NaN         NaN          NaN   \n",
      "\n",
      "       vaccinated    population  new_confirmed  confirmed_rate  deceased_rate  \\\n",
      "0    4.408091e+09  7.868396e+09              0        0.034369       0.000676   \n",
      "1    2.386797e+08  3.338077e+08              0        0.152188       0.002450   \n",
      "2    8.153880e+08  1.399606e+09              0        0.024789       0.000340   \n",
      "3    1.650802e+08  2.147428e+08              0        0.103332       0.002873   \n",
      "4    5.122913e+07  6.840140e+07              0        0.158177       0.002141   \n",
      "..            ...           ...            ...             ...            ...   \n",
      "221  7.329600e+04  1.074250e+05              0        0.000009            NaN   \n",
      "222           NaN  1.167650e+05              0        0.000009            NaN   \n",
      "223  5.949200e+04           NaN              0             NaN            NaN   \n",
      "224           NaN           NaN              0             NaN            NaN   \n",
      "225  3.848834e+07  4.678096e+07              0             NaN            NaN   \n",
      "\n",
      "     vaccinated_rate  \n",
      "0           0.560227  \n",
      "1           0.715021  \n",
      "2           0.582584  \n",
      "3           0.768734  \n",
      "4           0.748949  \n",
      "..               ...  \n",
      "221         0.682299  \n",
      "222              NaN  \n",
      "223              NaN  \n",
      "224              NaN  \n",
      "225         0.822735  \n",
      "\n",
      "[226 rows x 11 columns]\n"
     ]
    }
   ],
   "source": [
    "for df in dfs:\n",
    "    df['confirmed_rate'] = df['confirmed'] / df['population']\n",
    "    df['deceased_rate'] = df['deceased'] / df['population']\n",
    "    df['vaccinated_rate'] = df['vaccinated'] / df['population']\n",
    "    print(df)"
   ]
  },
  {
   "cell_type": "markdown",
   "metadata": {
    "pycharm": {
     "name": "#%% md\n"
    }
   },
   "source": [
    "## 计算全球变化趋势"
   ]
  },
  {
   "cell_type": "code",
   "execution_count": 29,
   "metadata": {
    "pycharm": {
     "name": "#%%\n"
    }
   },
   "outputs": [
    {
     "name": "stdout",
     "output_type": "stream",
     "text": [
      "          day1\n",
      "0  270426226.0\n"
     ]
    }
   ],
   "source": [
    "world_confirmed = pd.DataFrame(dfs[0].loc[[0], ['confirmed']])\n",
    "world_confirmed.rename(columns={'confirmed': 'day1'}, inplace=True)\n",
    "for i in range(1, len_dfs):\n",
    "    world_confirmed = pd.concat([world_confirmed, dfs[i].loc[[0], ['confirmed']]], axis=1)\n",
    "    world_confirmed.rename(columns={'confirmed': 'day' + str(i + 1)}, inplace=True)\n",
    "print(world_confirmed)\n",
    "\n",
    "world_deceased = pd.DataFrame(dfs[0].loc[[0], ['deceased']])\n",
    "world_deceased.rename(columns={'deceased': 'day1'}, inplace=True)\n",
    "for i in range(1, len_dfs):\n",
    "    world_deceased = pd.concat([world_deceased, dfs[i].loc[[0], ['deceased']]], axis=1)\n",
    "    world_deceased.rename(columns={'deceased': 'day' + str(i + 1)}, inplace=True)\n",
    "\n",
    "world_active = pd.DataFrame(dfs[0].loc[[0], ['active']])\n",
    "world_active.rename(columns={'active': 'day1'}, inplace=True)\n",
    "for i in range(1, len_dfs):\n",
    "    world_active = pd.concat([world_active, dfs[i].loc[[0], ['active']]], axis=1)\n",
    "    world_active.rename(columns={'active': 'day' + str(i + 1)}, inplace=True)\n",
    "\n",
    "world_recovered = pd.DataFrame(dfs[0].loc[[0], ['recovered']])\n",
    "world_recovered.rename(columns={'recovered': 'day1'}, inplace=True)\n",
    "for i in range(1, len_dfs):\n",
    "    world_recovered = pd.concat([world_recovered, dfs[i].loc[[0], ['recovered']]], axis=1)\n",
    "    world_recovered.rename(columns={'recovered': 'day' + str(i + 1)}, inplace=True)\n",
    "\n",
    "world_vaccinated = pd.DataFrame(dfs[0].loc[[0], ['vaccinated']])\n",
    "world_vaccinated.rename(columns={'vaccinated': 'day1'}, inplace=True)\n",
    "for i in range(1, len_dfs):\n",
    "    world_vaccinated = pd.concat([world_vaccinated, dfs[i].loc[[0], ['vaccinated']]], axis=1)\n",
    "    world_vaccinated.rename(columns={'vaccinated': 'day' + str(i + 1)}, inplace=True)"
   ]
  },
  {
   "cell_type": "markdown",
   "metadata": {},
   "source": [
    "## 绘图部分"
   ]
  },
  {
   "cell_type": "markdown",
   "metadata": {},
   "source": [
    "### 15日全球疫情总体变化趋势"
   ]
  },
  {
   "cell_type": "code",
   "execution_count": 31,
   "metadata": {
    "pycharm": {
     "name": "#%%\n"
    }
   },
   "outputs": [
    {
     "data": {
      "text/html": [
       "\n",
       "<script>\n",
       "    require.config({\n",
       "        paths: {\n",
       "            'echarts':'https://assets.pyecharts.org/assets/echarts.min'\n",
       "        }\n",
       "    });\n",
       "</script>\n",
       "\n",
       "        <div id=\"1f6d9bec55484647ab2c7273ce93e799\" style=\"width:900px; height:500px;\"></div>\n",
       "\n",
       "<script>\n",
       "        require(['echarts'], function(echarts) {\n",
       "                var chart_1f6d9bec55484647ab2c7273ce93e799 = echarts.init(\n",
       "                    document.getElementById('1f6d9bec55484647ab2c7273ce93e799'), 'white', {renderer: 'canvas'});\n",
       "                var option_1f6d9bec55484647ab2c7273ce93e799 = {\n",
       "    \"animation\": true,\n",
       "    \"animationThreshold\": 2000,\n",
       "    \"animationDuration\": 1000,\n",
       "    \"animationEasing\": \"cubicOut\",\n",
       "    \"animationDelay\": 0,\n",
       "    \"animationDurationUpdate\": 300,\n",
       "    \"animationEasingUpdate\": \"cubicOut\",\n",
       "    \"animationDelayUpdate\": 0,\n",
       "    \"color\": [\n",
       "        \"#c23531\",\n",
       "        \"#2f4554\",\n",
       "        \"#61a0a8\",\n",
       "        \"#d48265\",\n",
       "        \"#749f83\",\n",
       "        \"#ca8622\",\n",
       "        \"#bda29a\",\n",
       "        \"#6e7074\",\n",
       "        \"#546570\",\n",
       "        \"#c4ccd3\",\n",
       "        \"#f05b72\",\n",
       "        \"#ef5b9c\",\n",
       "        \"#f47920\",\n",
       "        \"#905a3d\",\n",
       "        \"#fab27b\",\n",
       "        \"#2a5caa\",\n",
       "        \"#444693\",\n",
       "        \"#726930\",\n",
       "        \"#b2d235\",\n",
       "        \"#6d8346\",\n",
       "        \"#ac6767\",\n",
       "        \"#1d953f\",\n",
       "        \"#6950a1\",\n",
       "        \"#918597\"\n",
       "    ],\n",
       "    \"series\": [\n",
       "        {\n",
       "            \"type\": \"line\",\n",
       "            \"name\": \"\\u7d2f\\u8ba1\\u786e\\u8bca\",\n",
       "            \"connectNulls\": false,\n",
       "            \"symbolSize\": 4,\n",
       "            \"showSymbol\": true,\n",
       "            \"smooth\": false,\n",
       "            \"clip\": true,\n",
       "            \"step\": false,\n",
       "            \"data\": [\n",
       "                [\n",
       "                    \"day1\",\n",
       "                    270426226.0\n",
       "                ]\n",
       "            ],\n",
       "            \"hoverAnimation\": true,\n",
       "            \"label\": {\n",
       "                \"show\": true,\n",
       "                \"position\": \"top\",\n",
       "                \"margin\": 8\n",
       "            },\n",
       "            \"lineStyle\": {\n",
       "                \"show\": true,\n",
       "                \"width\": 1,\n",
       "                \"opacity\": 1,\n",
       "                \"curveness\": 0,\n",
       "                \"type\": \"solid\"\n",
       "            },\n",
       "            \"areaStyle\": {\n",
       "                \"opacity\": 0\n",
       "            },\n",
       "            \"zlevel\": 0,\n",
       "            \"z\": 0\n",
       "        },\n",
       "        {\n",
       "            \"type\": \"line\",\n",
       "            \"name\": \"\\u73b0\\u6709\\u786e\\u8bca\",\n",
       "            \"connectNulls\": false,\n",
       "            \"symbolSize\": 4,\n",
       "            \"showSymbol\": true,\n",
       "            \"smooth\": false,\n",
       "            \"clip\": true,\n",
       "            \"step\": false,\n",
       "            \"data\": [\n",
       "                [\n",
       "                    \"day1\",\n",
       "                    23517119.0\n",
       "                ]\n",
       "            ],\n",
       "            \"hoverAnimation\": true,\n",
       "            \"label\": {\n",
       "                \"show\": true,\n",
       "                \"position\": \"top\",\n",
       "                \"margin\": 8\n",
       "            },\n",
       "            \"lineStyle\": {\n",
       "                \"show\": true,\n",
       "                \"width\": 1,\n",
       "                \"opacity\": 1,\n",
       "                \"curveness\": 0,\n",
       "                \"type\": \"solid\"\n",
       "            },\n",
       "            \"areaStyle\": {\n",
       "                \"opacity\": 0\n",
       "            },\n",
       "            \"zlevel\": 0,\n",
       "            \"z\": 0\n",
       "        },\n",
       "        {\n",
       "            \"type\": \"line\",\n",
       "            \"name\": \"\\u6b7b\\u4ea1\",\n",
       "            \"connectNulls\": false,\n",
       "            \"symbolSize\": 4,\n",
       "            \"showSymbol\": true,\n",
       "            \"smooth\": false,\n",
       "            \"clip\": true,\n",
       "            \"step\": false,\n",
       "            \"data\": [\n",
       "                [\n",
       "                    \"day1\",\n",
       "                    5321864.0\n",
       "                ]\n",
       "            ],\n",
       "            \"hoverAnimation\": true,\n",
       "            \"label\": {\n",
       "                \"show\": true,\n",
       "                \"position\": \"top\",\n",
       "                \"margin\": 8\n",
       "            },\n",
       "            \"lineStyle\": {\n",
       "                \"show\": true,\n",
       "                \"width\": 1,\n",
       "                \"opacity\": 1,\n",
       "                \"curveness\": 0,\n",
       "                \"type\": \"solid\"\n",
       "            },\n",
       "            \"areaStyle\": {\n",
       "                \"opacity\": 0\n",
       "            },\n",
       "            \"zlevel\": 0,\n",
       "            \"z\": 0\n",
       "        },\n",
       "        {\n",
       "            \"type\": \"line\",\n",
       "            \"name\": \"\\u6cbb\\u6108\",\n",
       "            \"connectNulls\": false,\n",
       "            \"symbolSize\": 4,\n",
       "            \"showSymbol\": true,\n",
       "            \"smooth\": false,\n",
       "            \"clip\": true,\n",
       "            \"step\": false,\n",
       "            \"data\": [\n",
       "                [\n",
       "                    \"day1\",\n",
       "                    241335916.0\n",
       "                ]\n",
       "            ],\n",
       "            \"hoverAnimation\": true,\n",
       "            \"label\": {\n",
       "                \"show\": true,\n",
       "                \"position\": \"top\",\n",
       "                \"margin\": 8\n",
       "            },\n",
       "            \"lineStyle\": {\n",
       "                \"show\": true,\n",
       "                \"width\": 1,\n",
       "                \"opacity\": 1,\n",
       "                \"curveness\": 0,\n",
       "                \"type\": \"solid\"\n",
       "            },\n",
       "            \"areaStyle\": {\n",
       "                \"opacity\": 0\n",
       "            },\n",
       "            \"zlevel\": 0,\n",
       "            \"z\": 0\n",
       "        }\n",
       "    ],\n",
       "    \"legend\": [\n",
       "        {\n",
       "            \"data\": [\n",
       "                \"\\u7d2f\\u8ba1\\u786e\\u8bca\",\n",
       "                \"\\u73b0\\u6709\\u786e\\u8bca\",\n",
       "                \"\\u6b7b\\u4ea1\",\n",
       "                \"\\u6cbb\\u6108\"\n",
       "            ],\n",
       "            \"selected\": {\n",
       "                \"\\u7d2f\\u8ba1\\u786e\\u8bca\": true,\n",
       "                \"\\u73b0\\u6709\\u786e\\u8bca\": true,\n",
       "                \"\\u6b7b\\u4ea1\": true,\n",
       "                \"\\u6cbb\\u6108\": true\n",
       "            },\n",
       "            \"show\": true,\n",
       "            \"padding\": 5,\n",
       "            \"itemGap\": 10,\n",
       "            \"itemWidth\": 25,\n",
       "            \"itemHeight\": 14\n",
       "        }\n",
       "    ],\n",
       "    \"tooltip\": {\n",
       "        \"show\": false,\n",
       "        \"trigger\": \"item\",\n",
       "        \"triggerOn\": \"mousemove|click\",\n",
       "        \"axisPointer\": {\n",
       "            \"type\": \"line\"\n",
       "        },\n",
       "        \"showContent\": true,\n",
       "        \"alwaysShowContent\": false,\n",
       "        \"showDelay\": 0,\n",
       "        \"hideDelay\": 100,\n",
       "        \"textStyle\": {\n",
       "            \"fontSize\": 14\n",
       "        },\n",
       "        \"borderWidth\": 0,\n",
       "        \"padding\": 5\n",
       "    },\n",
       "    \"xAxis\": [\n",
       "        {\n",
       "            \"type\": \"category\",\n",
       "            \"show\": true,\n",
       "            \"scale\": false,\n",
       "            \"nameLocation\": \"end\",\n",
       "            \"nameGap\": 15,\n",
       "            \"gridIndex\": 0,\n",
       "            \"inverse\": false,\n",
       "            \"offset\": 0,\n",
       "            \"splitNumber\": 5,\n",
       "            \"minInterval\": 0,\n",
       "            \"splitLine\": {\n",
       "                \"show\": false,\n",
       "                \"lineStyle\": {\n",
       "                    \"show\": true,\n",
       "                    \"width\": 1,\n",
       "                    \"opacity\": 1,\n",
       "                    \"curveness\": 0,\n",
       "                    \"type\": \"solid\"\n",
       "                }\n",
       "            },\n",
       "            \"data\": [\n",
       "                \"day1\"\n",
       "            ]\n",
       "        }\n",
       "    ],\n",
       "    \"yAxis\": [\n",
       "        {\n",
       "            \"type\": \"value\",\n",
       "            \"show\": true,\n",
       "            \"scale\": false,\n",
       "            \"nameLocation\": \"end\",\n",
       "            \"nameGap\": 15,\n",
       "            \"gridIndex\": 0,\n",
       "            \"inverse\": false,\n",
       "            \"offset\": 0,\n",
       "            \"splitNumber\": 5,\n",
       "            \"minInterval\": 0,\n",
       "            \"splitLine\": {\n",
       "                \"show\": false,\n",
       "                \"lineStyle\": {\n",
       "                    \"show\": true,\n",
       "                    \"width\": 1,\n",
       "                    \"opacity\": 1,\n",
       "                    \"curveness\": 0,\n",
       "                    \"type\": \"solid\"\n",
       "                }\n",
       "            }\n",
       "        }\n",
       "    ],\n",
       "    \"title\": [\n",
       "        {\n",
       "            \"padding\": 5,\n",
       "            \"itemGap\": 10\n",
       "        }\n",
       "    ]\n",
       "};\n",
       "                chart_1f6d9bec55484647ab2c7273ce93e799.setOption(option_1f6d9bec55484647ab2c7273ce93e799);\n",
       "        });\n",
       "    </script>\n"
      ],
      "text/plain": [
       "<pyecharts.render.display.HTML at 0x16a47bfa0>"
      ]
     },
     "execution_count": 31,
     "metadata": {},
     "output_type": "execute_result"
    }
   ],
   "source": [
    "import pyecharts.options as opts\n",
    "from pyecharts.charts import Line\n",
    "x_data = world_confirmed.columns.values.tolist()\n",
    "\n",
    "y_confirmed = world_confirmed.loc[0].values.tolist()\n",
    "y_deceased = world_deceased.loc[0].values.tolist()\n",
    "y_active = world_active.loc[0].values.tolist()\n",
    "y_recovered = world_recovered.loc[0].values.tolist()\n",
    "\n",
    "world_trend = (\n",
    "    Line()\n",
    "    .set_global_opts(\n",
    "        tooltip_opts=opts.TooltipOpts(is_show=False),\n",
    "        xaxis_opts=opts.AxisOpts(type_=\"category\"),\n",
    "        yaxis_opts=opts.AxisOpts(type_='value')\n",
    "    )\n",
    "    .add_xaxis(xaxis_data=x_data)\n",
    "    .add_yaxis(series_name=\"累计确诊\",\n",
    "               y_axis=y_confirmed)\n",
    "    .add_yaxis(series_name='现有确诊',\n",
    "               y_axis=y_active)\n",
    "    .add_yaxis(series_name='死亡',\n",
    "               y_axis=y_deceased)\n",
    "    .add_yaxis(series_name='治愈',\n",
    "               y_axis=y_recovered)\n",
    ")\n",
    "world_trend.render_notebook()"
   ]
  },
  {
   "cell_type": "markdown",
   "metadata": {
    "pycharm": {
     "name": "#%% md\n"
    }
   },
   "source": [
    "### 15日新增确诊排名前10国家新增确诊趋势"
   ]
  },
  {
   "cell_type": "code",
   "execution_count": 5,
   "outputs": [],
   "source": [
    "y_new_confirm = []\n",
    "regions = accu_nc['region'].values.tolist()\n",
    "for i in range(10):\n",
    "    y_new_confirm.append(accu_nc.loc[i].values.tolist())\n",
    "top10_nc = (\n",
    "    Line()\n",
    "    .set_global_opts(\n",
    "        tooltip_opts=opts.TooltipOpts(is_show=False),\n",
    "        xaxis_opts=opts.AxisOpts(type_=\"category\"),\n",
    "        yaxis_opts=opts.AxisOpts(type_='value')\n",
    "    )\n",
    ")"
   ],
   "metadata": {
    "collapsed": false,
    "pycharm": {
     "name": "#%%\n"
    }
   }
  }
 ],
 "metadata": {
  "kernelspec": {
   "display_name": "Python 3 (ipykernel)",
   "language": "python",
   "name": "python3"
  },
  "language_info": {
   "codemirror_mode": {
    "name": "ipython",
    "version": 3
   },
   "file_extension": ".py",
   "mimetype": "text/x-python",
   "name": "python",
   "nbconvert_exporter": "python",
   "pygments_lexer": "ipython3",
   "version": "3.9.7"
  }
 },
 "nbformat": 4,
 "nbformat_minor": 1
}