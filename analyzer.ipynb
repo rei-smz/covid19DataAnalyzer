{
 "cells": [
  {
   "cell_type": "markdown",
   "source": [
    "# Covid19 Analyzer\n",
    "数据分析和展示应包括:\n",
    "\n",
    "1) 15 天中，全球新冠疫情的总体变化趋势;\n",
    "\n",
    "2) 15 天中，每日新增确诊数累计排名前 10 个国家的每日新增确诊数据的曲线图;\n",
    "\n",
    "3) 累计确诊数排名前 10 的国家名称及其数量;\n",
    "\n",
    "4) 用饼图展示各个国家的累计确诊人数的比例(你爬取的所有国家，数据较小的国家\n",
    "可以合并处理);\n",
    "\n",
    "5) 累计确诊人数占国家总人口比例最高的 10 个国家;\n",
    "\n",
    "6) 疫苗接种情况(至少接种了一针及以上)，请用地图形式展示;\n",
    "\n",
    "7) 疫苗接种率(累计疫苗接种人数/国家人数)最低的 10 个国家;\n",
    "\n",
    "8) 全球 GDP 前十名国家的累计确诊人数箱型图，要有平均值;\n",
    "\n",
    "9) 死亡率最高的 10 个国家;\n",
    "\n",
    "10) 其它你希望分析和展示的数据。\n",
    "\n",
    "以上图形应包括完整的坐标、刻度、标签、图例等，如有必要请配上说明文字，对\n",
    "图中的内容进行解释。\n",
    "\n",
    "根据以上数据，列出全世界应对新冠疫情最好的 10 个国家，并说明你的理由。\n",
    "\n",
    "针对全球累计确诊数，利用前 10 天采集到的数据做后 5 天的预测，并与实际数据进行对比。说明你预测的方法，并分析与实际数据的差距和原因。"
   ],
   "metadata": {
    "collapsed": false
   }
  },
  {
   "cell_type": "markdown",
   "source": [
    "## imports"
   ],
   "metadata": {
    "collapsed": false
   }
  },
  {
   "cell_type": "code",
   "execution_count": 1,
   "outputs": [],
   "source": [
    "import pandas as pd\n",
    "import matplotlib.pyplot as plt"
   ],
   "metadata": {
    "collapsed": false,
    "pycharm": {
     "name": "#%%\n"
    }
   }
  },
  {
   "cell_type": "markdown",
   "source": [
    "## 导入数据"
   ],
   "metadata": {
    "collapsed": false
   }
  },
  {
   "cell_type": "code",
   "execution_count": null,
   "outputs": [],
   "source": [
    "dfs = []\n",
    "for i in range(5, 12):\n",
    "    df = pd.read_csv('./dataFetcher/12.' + str(i) + '_data.csv')\n",
    "\n",
    "    # 保存为float便于计算\n",
    "    df['confirmed'].astype(float)\n",
    "    df['confirmed'].astype(float)\n",
    "    df['deceased'].astype(float)\n",
    "    df['vaccinated'].astype(float)\n",
    "    df['population'].astype(float)\n",
    "\n",
    "    dfs.append(df)\n",
    "print(f'{len(dfs)} files imported')"
   ],
   "metadata": {
    "collapsed": false,
    "pycharm": {
     "name": "#%%\n"
    }
   }
  },
  {
   "cell_type": "markdown",
   "source": [
    "## 计算新增数据"
   ],
   "metadata": {
    "collapsed": false
   }
  },
  {
   "cell_type": "code",
   "execution_count": null,
   "outputs": [],
   "source": [
    "for df in dfs:\n",
    "    df['new_confirmed'] = 0"
   ],
   "metadata": {
    "collapsed": false,
    "pycharm": {
     "name": "#%%\n"
    }
   }
  }
 ],
 "metadata": {
  "kernelspec": {
   "display_name": "Python 3",
   "language": "python",
   "name": "python3"
  },
  "language_info": {
   "codemirror_mode": {
    "name": "ipython",
    "version": 2
   },
   "file_extension": ".py",
   "mimetype": "text/x-python",
   "name": "python",
   "nbconvert_exporter": "python",
   "pygments_lexer": "ipython2",
   "version": "2.7.6"
  }
 },
 "nbformat": 4,
 "nbformat_minor": 0
}