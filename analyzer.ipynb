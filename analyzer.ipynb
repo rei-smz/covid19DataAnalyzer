{
 "cells": [
  {
   "cell_type": "markdown",
   "source": [
    "# Covid19 Analyzer\n",
    "数据分析和展示应包括:\n",
    "\n",
    "1) 15 天中，全球新冠疫情的总体变化趋势;\n",
    "\n",
    "2) 15 天中，每日新增确诊数累计排名前 10 个国家的每日新增确诊数据的曲线图;\n",
    "\n",
    "3) 累计确诊数排名前 10 的国家名称及其数量;\n",
    "\n",
    "4) 用饼图展示各个国家的累计确诊人数的比例(你爬取的所有国家，数据较小的国家\n",
    "可以合并处理);\n",
    "\n",
    "5) 累计确诊人数占国家总人口比例最高的 10 个国家;\n",
    "\n",
    "6) 疫苗接种情况(至少接种了一针及以上)，请用地图形式展示;\n",
    "\n",
    "7) 疫苗接种率(累计疫苗接种人数/国家人数)最低的 10 个国家;\n",
    "\n",
    "8) 全球 GDP 前十名国家的累计确诊人数箱型图，要有平均值;\n",
    "\n",
    "9) 死亡率最高的 10 个国家;\n",
    "\n",
    "10) 其它你希望分析和展示的数据。\n",
    "\n",
    "以上图形应包括完整的坐标、刻度、标签、图例等，如有必要请配上说明文字，对\n",
    "图中的内容进行解释。\n",
    "\n",
    "根据以上数据，列出全世界应对新冠疫情最好的 10 个国家，并说明你的理由。\n",
    "\n",
    "针对全球累计确诊数，利用前 10 天采集到的数据做后 5 天的预测，并与实际数据进行对比。说明你预测的方法，并分析与实际数据的差距和原因。"
   ],
   "metadata": {
    "collapsed": false
   }
  },
  {
   "cell_type": "markdown",
   "source": [
    "## 导入数据"
   ],
   "metadata": {
    "collapsed": false
   }
  },
  {
   "cell_type": "code",
   "execution_count": 15,
   "outputs": [
    {
     "name": "stdout",
     "output_type": "stream",
     "text": [
      "7 files imported\n"
     ]
    }
   ],
   "source": [
    "import pandas as pd\n",
    "\n",
    "dfs = []\n",
    "for i in range(5, 12):\n",
    "    df = pd.read_csv('./dataFetcher/12.' + str(i) + '_data.csv').sort_values('confirmed', ascending=False).reset_index(drop=True)\n",
    "\n",
    "    # 保存为float便于计算\n",
    "    df['confirmed'].astype(float)\n",
    "    df['confirmed'].astype(float)\n",
    "    df['deceased'].astype(float)\n",
    "    df['vaccinated'].astype(float)\n",
    "    df['population'].astype(float)\n",
    "\n",
    "    dfs.append(df)\n",
    "len_dfs = len(dfs)\n",
    "print(f'{len_dfs} files imported')"
   ],
   "metadata": {
    "collapsed": false,
    "pycharm": {
     "name": "#%%\n"
    }
   }
  },
  {
   "cell_type": "markdown",
   "source": [
    "## 计算新增数据"
   ],
   "metadata": {
    "collapsed": false
   }
  },
  {
   "cell_type": "code",
   "execution_count": 16,
   "outputs": [
    {
     "name": "stdout",
     "output_type": "stream",
     "text": [
      "                   region    confirmed   deceased    vaccinated    population  \\\n",
      "0                   World  266215281.0  5273301.0  4.334032e+09  7.866962e+09   \n",
      "1           United States   49969856.0   808763.0  2.356987e+08  3.337707e+08   \n",
      "2                   India   34641561.0   473537.0  8.014174e+08  1.399347e+09   \n",
      "3                  Brazil   22143091.0   615674.0  1.645897e+08  2.147140e+08   \n",
      "4          United Kingdom   10464389.0   145605.0  5.109464e+07  6.839459e+07   \n",
      "..                    ...          ...        ...           ...           ...   \n",
      "221                 Tonga          1.0        NaN  7.318300e+04  1.074030e+05   \n",
      "222            Micronesia          1.0        NaN           NaN  1.167420e+05   \n",
      "223              Kiribati          NaN        NaN  5.949200e+04           NaN   \n",
      "224  Summer Olympics 2020          NaN        NaN           NaN           NaN   \n",
      "225                 Spain          NaN        NaN  3.840914e+07  4.678061e+07   \n",
      "\n",
      "     new_confirmed  \n",
      "0         389311.0  \n",
      "1          35065.0  \n",
      "2           8306.0  \n",
      "3           4844.0  \n",
      "4          43285.0  \n",
      "..             ...  \n",
      "221            0.0  \n",
      "222            0.0  \n",
      "223            NaN  \n",
      "224            NaN  \n",
      "225            NaN  \n",
      "\n",
      "[226 rows x 6 columns]\n",
      "                   region    confirmed   deceased    vaccinated    population  \\\n",
      "0                   World  266775236.0  5279091.0  4.334362e+09  7.867167e+09   \n",
      "1           United States   50149325.0   810254.0  2.356987e+08  3.337760e+08   \n",
      "2                   India   34648383.0   473757.0  8.014174e+08  1.399384e+09   \n",
      "3                  Brazil   22147476.0   615789.0  1.645897e+08  2.147181e+08   \n",
      "4          United Kingdom   10515239.0   145646.0  5.109464e+07  6.839556e+07   \n",
      "..                    ...          ...        ...           ...           ...   \n",
      "221                 Tonga          1.0        NaN  7.318300e+04  1.074060e+05   \n",
      "222            Micronesia          1.0        NaN           NaN  1.167450e+05   \n",
      "223              Kiribati          NaN        NaN  5.949200e+04           NaN   \n",
      "224  Summer Olympics 2020          NaN        NaN           NaN           NaN   \n",
      "225                 Spain          NaN        NaN  3.840914e+07  4.678066e+07   \n",
      "\n",
      "     new_confirmed  \n",
      "0         559955.0  \n",
      "1         179469.0  \n",
      "2           6822.0  \n",
      "3           4385.0  \n",
      "4          50850.0  \n",
      "..             ...  \n",
      "221            0.0  \n",
      "222            0.0  \n",
      "223            NaN  \n",
      "224            NaN  \n",
      "225            NaN  \n",
      "\n",
      "[226 rows x 6 columns]\n",
      "                   region    confirmed   deceased    vaccinated    population  \\\n",
      "0                   World  267486343.0  5289120.0  4.351354e+09  7.867372e+09   \n",
      "1           United States   50270136.0   812205.0  2.363638e+08  3.337813e+08   \n",
      "2                   India   34656822.0   473952.0  8.054046e+08  1.399421e+09   \n",
      "3                  Brazil   22157726.0   616067.0  1.647117e+08  2.147222e+08   \n",
      "4          United Kingdom   10560341.0   145826.0  5.113824e+07  6.839654e+07   \n",
      "..                    ...          ...        ...           ...           ...   \n",
      "221                 Tonga          1.0        NaN  7.329600e+04  1.074090e+05   \n",
      "222            Micronesia          1.0        NaN           NaN  1.167480e+05   \n",
      "223              Kiribati          NaN        NaN  5.949200e+04           NaN   \n",
      "224  Summer Olympics 2020          NaN        NaN           NaN           NaN   \n",
      "225                 Spain          NaN        NaN  3.844730e+07  4.678071e+07   \n",
      "\n",
      "     new_confirmed  \n",
      "0         711107.0  \n",
      "1         120811.0  \n",
      "2           8439.0  \n",
      "3          10250.0  \n",
      "4          45102.0  \n",
      "..             ...  \n",
      "221            0.0  \n",
      "222            0.0  \n",
      "223            NaN  \n",
      "224            NaN  \n",
      "225            NaN  \n",
      "\n",
      "[226 rows x 6 columns]\n",
      "                   region    confirmed   deceased    vaccinated    population  \\\n",
      "0                   World  268390355.0  5299219.0  4.359249e+09  7.867577e+09   \n",
      "1           United States   50422410.0   813904.0  2.370874e+08  3.337866e+08   \n",
      "2                   India   34666241.0   474111.0  8.077556e+08  1.399458e+09   \n",
      "3                  Brazil   22167781.0   616298.0  1.648004e+08  2.147263e+08   \n",
      "4          United Kingdom   10660981.0   146135.0  5.116176e+07  6.839751e+07   \n",
      "..                    ...          ...        ...           ...           ...   \n",
      "221                 Tonga          1.0        NaN  7.329600e+04  1.074120e+05   \n",
      "222            Micronesia          1.0        NaN           NaN  1.167520e+05   \n",
      "223              Kiribati          NaN        NaN  5.949200e+04           NaN   \n",
      "224  Summer Olympics 2020          NaN        NaN           NaN           NaN   \n",
      "225                 Spain          NaN        NaN  3.844730e+07  4.678076e+07   \n",
      "\n",
      "     new_confirmed  \n",
      "0         904012.0  \n",
      "1         152274.0  \n",
      "2           9419.0  \n",
      "3          10055.0  \n",
      "4         100640.0  \n",
      "..             ...  \n",
      "221            0.0  \n",
      "222            0.0  \n",
      "223            NaN  \n",
      "224            NaN  \n",
      "225            NaN  \n",
      "\n",
      "[226 rows x 6 columns]\n",
      "                   region    confirmed   deceased    vaccinated    population  \\\n",
      "0                   World  269106111.0  5307780.0  4.373124e+09  7.867781e+09   \n",
      "1           United States   50547419.0   815413.0  2.374687e+08  3.337919e+08   \n",
      "2                   India   34674744.0   474735.0  8.101425e+08  1.399495e+09   \n",
      "3                  Brazil   22177059.0   616504.0  1.649148e+08  2.147305e+08   \n",
      "4          United Kingdom   10719165.0   146255.0  5.118346e+07  6.839848e+07   \n",
      "..                    ...          ...        ...           ...           ...   \n",
      "221                 Tonga          1.0        NaN  7.329600e+04  1.074160e+05   \n",
      "222            Micronesia          1.0        NaN           NaN  1.167550e+05   \n",
      "223              Kiribati          NaN        NaN  5.949200e+04           NaN   \n",
      "224  Summer Olympics 2020          NaN        NaN           NaN           NaN   \n",
      "225                 Spain          NaN        NaN  3.846579e+07  4.678081e+07   \n",
      "\n",
      "     new_confirmed  \n",
      "0         715756.0  \n",
      "1         125009.0  \n",
      "2           8503.0  \n",
      "3           9278.0  \n",
      "4          58184.0  \n",
      "..             ...  \n",
      "221            0.0  \n",
      "222            0.0  \n",
      "223            NaN  \n",
      "224            NaN  \n",
      "225            NaN  \n",
      "\n",
      "[226 rows x 6 columns]\n",
      "                   region    confirmed   deceased    vaccinated    population  \\\n",
      "0                   World  269512224.0  5314021.0  4.373213e+09  7.867986e+09   \n",
      "1           United States   50705257.0   817326.0  2.374687e+08  3.337972e+08   \n",
      "2                   India   34682736.0   475128.0  8.101425e+08  1.399532e+09   \n",
      "3                  Brazil   22184824.0   616733.0  1.649148e+08  2.147346e+08   \n",
      "4          United Kingdom   10719165.0   146255.0  5.118346e+07  6.839945e+07   \n",
      "..                    ...          ...        ...           ...           ...   \n",
      "221                 Tonga          1.0        NaN  7.329600e+04  1.074190e+05   \n",
      "222            Micronesia          1.0        NaN           NaN  1.167580e+05   \n",
      "223              Kiribati          NaN        NaN  5.949200e+04           NaN   \n",
      "224  Summer Olympics 2020          NaN        NaN           NaN           NaN   \n",
      "225                 Spain          NaN        NaN  3.846579e+07  4.678086e+07   \n",
      "\n",
      "     new_confirmed  \n",
      "0         406113.0  \n",
      "1         157838.0  \n",
      "2           7992.0  \n",
      "3           7765.0  \n",
      "4              0.0  \n",
      "..             ...  \n",
      "221            0.0  \n",
      "222            0.0  \n",
      "223            NaN  \n",
      "224            NaN  \n",
      "225            NaN  \n",
      "\n",
      "[226 rows x 6 columns]\n"
     ]
    }
   ],
   "source": [
    "dfs[0]['new_confirmed'] = 0\n",
    "\n",
    "for i in range(1, len_dfs):\n",
    "    dfs[i]['new_confirmed'] = dfs[i]['confirmed'] - dfs[i - 1]['confirmed']\n",
    "    print(dfs[i])"
   ],
   "metadata": {
    "collapsed": false,
    "pycharm": {
     "name": "#%%\n"
    }
   }
  },
  {
   "cell_type": "markdown",
   "source": [
    "## 计算新增排名"
   ],
   "metadata": {
    "collapsed": false
   }
  },
  {
   "cell_type": "code",
   "execution_count": 17,
   "outputs": [
    {
     "name": "stdout",
     "output_type": "stream",
     "text": [
      "            region  day1     day2      day3      day4      day5      day6  \\\n",
      "1    United States     0  35065.0  179469.0  120811.0  152274.0  125009.0   \n",
      "2          Germany     0  35983.0   39330.0   51592.0   85127.0   82789.0   \n",
      "3   United Kingdom     0  43285.0   50850.0   45102.0  100640.0   58184.0   \n",
      "4           France     0  42252.0   11308.0   59019.0   61340.0   56854.0   \n",
      "5           Russia     0  32136.0       0.0   61848.0   30209.0   30873.0   \n",
      "6           Turkey     0  19357.0   20033.0   22687.0   20874.0   19696.0   \n",
      "7           Poland     0  13250.0       0.0   19369.0   56008.0   24988.0   \n",
      "8      Netherlands     0  23078.0   20965.0   17911.0   37825.0    7545.0   \n",
      "9          Belgium     0      0.0   41439.0   10878.0   18714.0   16029.0   \n",
      "10    South Africa     0  11125.0    6381.0   13147.0   19842.0   22388.0   \n",
      "\n",
      "        day7     total  \n",
      "1   157838.0  770466.0  \n",
      "2    25060.0  319881.0  \n",
      "3        0.0  298061.0  \n",
      "4        0.0  230773.0  \n",
      "5    30288.0  185354.0  \n",
      "6    18561.0  121208.0  \n",
      "7        0.0  113615.0  \n",
      "8      160.0  107484.0  \n",
      "9    15245.0  102305.0  \n",
      "10   19017.0   91900.0  \n"
     ]
    }
   ],
   "source": [
    "accu_nc = pd.DataFrame(dfs[0]['new_confirmed'])\n",
    "accu_nc.rename(columns={'new_confirmed': 'day1'}, inplace=True)\n",
    "for i in range(1, len_dfs):\n",
    "    accu_nc = pd.concat([accu_nc, dfs[i]['new_confirmed']], axis=1)\n",
    "    accu_nc.rename(columns={'new_confirmed': 'day' + str(i + 1)}, inplace=True)\n",
    "\n",
    "\n",
    "accu_nc['total'] = 0\n",
    "for i in range(len_dfs):\n",
    "    accu_nc['total'] += accu_nc['day' + str(i + 1)]\n",
    "\n",
    "accu_nc = pd.concat([dfs[0]['region'], accu_nc], axis=1)\n",
    "accu_nc = accu_nc.sort_values('total', ascending=False).reset_index(drop=True)\n",
    "print(accu_nc[1:11])"
   ],
   "metadata": {
    "collapsed": false,
    "pycharm": {
     "name": "#%%\n"
    }
   }
  },
  {
   "cell_type": "markdown",
   "source": [
    "## 计算确诊率/死亡率/疫苗接种率"
   ],
   "metadata": {
    "collapsed": false
   }
  },
  {
   "cell_type": "code",
   "execution_count": 18,
   "outputs": [
    {
     "name": "stdout",
     "output_type": "stream",
     "text": [
      "                   region    confirmed   deceased    vaccinated    population  \\\n",
      "0                   World  265825970.0  5266612.0  4.328317e+09  7.866758e+09   \n",
      "1           United States   49934791.0   808608.0  2.352980e+08  3.337654e+08   \n",
      "2                   India   34633255.0   470620.0  7.997455e+08  1.399310e+09   \n",
      "3                  Brazil   22138247.0   615606.0  1.645436e+08  2.147099e+08   \n",
      "4          United Kingdom   10421104.0   145551.0  5.106896e+07  6.839362e+07   \n",
      "..                    ...          ...        ...           ...           ...   \n",
      "221                 Tonga          1.0        NaN  7.318300e+04  1.073990e+05   \n",
      "222            Micronesia          1.0        NaN           NaN  1.167380e+05   \n",
      "223              Kiribati          NaN        NaN  5.949200e+04           NaN   \n",
      "224  Summer Olympics 2020          NaN        NaN           NaN           NaN   \n",
      "225                 Spain          NaN        NaN  3.840914e+07  4.678056e+07   \n",
      "\n",
      "     new_confirmed  confirmed_rate  deceased_rate  vaccinated_rate  \n",
      "0                0        0.033791       0.000669         0.550203  \n",
      "1                0        0.149610       0.002423         0.704980  \n",
      "2                0        0.024750       0.000336         0.571529  \n",
      "3                0        0.103108       0.002867         0.766353  \n",
      "4                0        0.152370       0.002128         0.746692  \n",
      "..             ...             ...            ...              ...  \n",
      "221              0        0.000009            NaN         0.681412  \n",
      "222              0        0.000009            NaN              NaN  \n",
      "223              0             NaN            NaN              NaN  \n",
      "224              0             NaN            NaN              NaN  \n",
      "225              0             NaN            NaN         0.821049  \n",
      "\n",
      "[226 rows x 9 columns]\n",
      "                   region    confirmed   deceased    vaccinated    population  \\\n",
      "0                   World  266215281.0  5273301.0  4.334032e+09  7.866962e+09   \n",
      "1           United States   49969856.0   808763.0  2.356987e+08  3.337707e+08   \n",
      "2                   India   34641561.0   473537.0  8.014174e+08  1.399347e+09   \n",
      "3                  Brazil   22143091.0   615674.0  1.645897e+08  2.147140e+08   \n",
      "4          United Kingdom   10464389.0   145605.0  5.109464e+07  6.839459e+07   \n",
      "..                    ...          ...        ...           ...           ...   \n",
      "221                 Tonga          1.0        NaN  7.318300e+04  1.074030e+05   \n",
      "222            Micronesia          1.0        NaN           NaN  1.167420e+05   \n",
      "223              Kiribati          NaN        NaN  5.949200e+04           NaN   \n",
      "224  Summer Olympics 2020          NaN        NaN           NaN           NaN   \n",
      "225                 Spain          NaN        NaN  3.840914e+07  4.678061e+07   \n",
      "\n",
      "     new_confirmed  confirmed_rate  deceased_rate  vaccinated_rate  \n",
      "0         389311.0        0.033840       0.000670         0.550916  \n",
      "1          35065.0        0.149713       0.002423         0.706170  \n",
      "2           8306.0        0.024756       0.000338         0.572708  \n",
      "3           4844.0        0.103128       0.002867         0.766553  \n",
      "4          43285.0        0.153000       0.002129         0.747057  \n",
      "..             ...             ...            ...              ...  \n",
      "221            0.0        0.000009            NaN         0.681387  \n",
      "222            0.0        0.000009            NaN              NaN  \n",
      "223            NaN             NaN            NaN              NaN  \n",
      "224            NaN             NaN            NaN              NaN  \n",
      "225            NaN             NaN            NaN         0.821048  \n",
      "\n",
      "[226 rows x 9 columns]\n",
      "                   region    confirmed   deceased    vaccinated    population  \\\n",
      "0                   World  266775236.0  5279091.0  4.334362e+09  7.867167e+09   \n",
      "1           United States   50149325.0   810254.0  2.356987e+08  3.337760e+08   \n",
      "2                   India   34648383.0   473757.0  8.014174e+08  1.399384e+09   \n",
      "3                  Brazil   22147476.0   615789.0  1.645897e+08  2.147181e+08   \n",
      "4          United Kingdom   10515239.0   145646.0  5.109464e+07  6.839556e+07   \n",
      "..                    ...          ...        ...           ...           ...   \n",
      "221                 Tonga          1.0        NaN  7.318300e+04  1.074060e+05   \n",
      "222            Micronesia          1.0        NaN           NaN  1.167450e+05   \n",
      "223              Kiribati          NaN        NaN  5.949200e+04           NaN   \n",
      "224  Summer Olympics 2020          NaN        NaN           NaN           NaN   \n",
      "225                 Spain          NaN        NaN  3.840914e+07  4.678066e+07   \n",
      "\n",
      "     new_confirmed  confirmed_rate  deceased_rate  vaccinated_rate  \n",
      "0         559955.0        0.033910       0.000671         0.550943  \n",
      "1         179469.0        0.150248       0.002428         0.706158  \n",
      "2           6822.0        0.024760       0.000339         0.572693  \n",
      "3           4385.0        0.103147       0.002868         0.766539  \n",
      "4          50850.0        0.153742       0.002129         0.747046  \n",
      "..             ...             ...            ...              ...  \n",
      "221            0.0        0.000009            NaN         0.681368  \n",
      "222            0.0        0.000009            NaN              NaN  \n",
      "223            NaN             NaN            NaN              NaN  \n",
      "224            NaN             NaN            NaN              NaN  \n",
      "225            NaN             NaN            NaN         0.821047  \n",
      "\n",
      "[226 rows x 9 columns]\n",
      "                   region    confirmed   deceased    vaccinated    population  \\\n",
      "0                   World  267486343.0  5289120.0  4.351354e+09  7.867372e+09   \n",
      "1           United States   50270136.0   812205.0  2.363638e+08  3.337813e+08   \n",
      "2                   India   34656822.0   473952.0  8.054046e+08  1.399421e+09   \n",
      "3                  Brazil   22157726.0   616067.0  1.647117e+08  2.147222e+08   \n",
      "4          United Kingdom   10560341.0   145826.0  5.113824e+07  6.839654e+07   \n",
      "..                    ...          ...        ...           ...           ...   \n",
      "221                 Tonga          1.0        NaN  7.329600e+04  1.074090e+05   \n",
      "222            Micronesia          1.0        NaN           NaN  1.167480e+05   \n",
      "223              Kiribati          NaN        NaN  5.949200e+04           NaN   \n",
      "224  Summer Olympics 2020          NaN        NaN           NaN           NaN   \n",
      "225                 Spain          NaN        NaN  3.844730e+07  4.678071e+07   \n",
      "\n",
      "     new_confirmed  confirmed_rate  deceased_rate  vaccinated_rate  \n",
      "0         711107.0        0.033999       0.000672         0.553089  \n",
      "1         120811.0        0.150608       0.002433         0.708140  \n",
      "2           8439.0        0.024765       0.000339         0.575527  \n",
      "3          10250.0        0.103193       0.002869         0.767092  \n",
      "4          45102.0        0.154399       0.002132         0.747673  \n",
      "..             ...             ...            ...              ...  \n",
      "221            0.0        0.000009            NaN         0.682401  \n",
      "222            0.0        0.000009            NaN              NaN  \n",
      "223            NaN             NaN            NaN              NaN  \n",
      "224            NaN             NaN            NaN              NaN  \n",
      "225            NaN             NaN            NaN         0.821862  \n",
      "\n",
      "[226 rows x 9 columns]\n",
      "                   region    confirmed   deceased    vaccinated    population  \\\n",
      "0                   World  268390355.0  5299219.0  4.359249e+09  7.867577e+09   \n",
      "1           United States   50422410.0   813904.0  2.370874e+08  3.337866e+08   \n",
      "2                   India   34666241.0   474111.0  8.077556e+08  1.399458e+09   \n",
      "3                  Brazil   22167781.0   616298.0  1.648004e+08  2.147263e+08   \n",
      "4          United Kingdom   10660981.0   146135.0  5.116176e+07  6.839751e+07   \n",
      "..                    ...          ...        ...           ...           ...   \n",
      "221                 Tonga          1.0        NaN  7.329600e+04  1.074120e+05   \n",
      "222            Micronesia          1.0        NaN           NaN  1.167520e+05   \n",
      "223              Kiribati          NaN        NaN  5.949200e+04           NaN   \n",
      "224  Summer Olympics 2020          NaN        NaN           NaN           NaN   \n",
      "225                 Spain          NaN        NaN  3.844730e+07  4.678076e+07   \n",
      "\n",
      "     new_confirmed  confirmed_rate  deceased_rate  vaccinated_rate  \n",
      "0         904012.0        0.034113       0.000674         0.554078  \n",
      "1         152274.0        0.151062       0.002438         0.710296  \n",
      "2           9419.0        0.024771       0.000339         0.577192  \n",
      "3          10055.0        0.103237       0.002870         0.767490  \n",
      "4         100640.0        0.155868       0.002137         0.748006  \n",
      "..             ...             ...            ...              ...  \n",
      "221            0.0        0.000009            NaN         0.682382  \n",
      "222            0.0        0.000009            NaN              NaN  \n",
      "223            NaN             NaN            NaN              NaN  \n",
      "224            NaN             NaN            NaN              NaN  \n",
      "225            NaN             NaN            NaN         0.821861  \n",
      "\n",
      "[226 rows x 9 columns]\n",
      "                   region    confirmed   deceased    vaccinated    population  \\\n",
      "0                   World  269106111.0  5307780.0  4.373124e+09  7.867781e+09   \n",
      "1           United States   50547419.0   815413.0  2.374687e+08  3.337919e+08   \n",
      "2                   India   34674744.0   474735.0  8.101425e+08  1.399495e+09   \n",
      "3                  Brazil   22177059.0   616504.0  1.649148e+08  2.147305e+08   \n",
      "4          United Kingdom   10719165.0   146255.0  5.118346e+07  6.839848e+07   \n",
      "..                    ...          ...        ...           ...           ...   \n",
      "221                 Tonga          1.0        NaN  7.329600e+04  1.074160e+05   \n",
      "222            Micronesia          1.0        NaN           NaN  1.167550e+05   \n",
      "223              Kiribati          NaN        NaN  5.949200e+04           NaN   \n",
      "224  Summer Olympics 2020          NaN        NaN           NaN           NaN   \n",
      "225                 Spain          NaN        NaN  3.846579e+07  4.678081e+07   \n",
      "\n",
      "     new_confirmed  confirmed_rate  deceased_rate  vaccinated_rate  \n",
      "0         715756.0        0.034204       0.000675         0.555827  \n",
      "1         125009.0        0.151434       0.002443         0.711428  \n",
      "2           8503.0        0.024777       0.000339         0.578882  \n",
      "3           9278.0        0.103279       0.002871         0.768008  \n",
      "4          58184.0        0.156716       0.002138         0.748313  \n",
      "..             ...             ...            ...              ...  \n",
      "221            0.0        0.000009            NaN         0.682356  \n",
      "222            0.0        0.000009            NaN              NaN  \n",
      "223            NaN             NaN            NaN              NaN  \n",
      "224            NaN             NaN            NaN              NaN  \n",
      "225            NaN             NaN            NaN         0.822256  \n",
      "\n",
      "[226 rows x 9 columns]\n",
      "                   region    confirmed   deceased    vaccinated    population  \\\n",
      "0                   World  269512224.0  5314021.0  4.373213e+09  7.867986e+09   \n",
      "1           United States   50705257.0   817326.0  2.374687e+08  3.337972e+08   \n",
      "2                   India   34682736.0   475128.0  8.101425e+08  1.399532e+09   \n",
      "3                  Brazil   22184824.0   616733.0  1.649148e+08  2.147346e+08   \n",
      "4          United Kingdom   10719165.0   146255.0  5.118346e+07  6.839945e+07   \n",
      "..                    ...          ...        ...           ...           ...   \n",
      "221                 Tonga          1.0        NaN  7.329600e+04  1.074190e+05   \n",
      "222            Micronesia          1.0        NaN           NaN  1.167580e+05   \n",
      "223              Kiribati          NaN        NaN  5.949200e+04           NaN   \n",
      "224  Summer Olympics 2020          NaN        NaN           NaN           NaN   \n",
      "225                 Spain          NaN        NaN  3.846579e+07  4.678086e+07   \n",
      "\n",
      "     new_confirmed  confirmed_rate  deceased_rate  vaccinated_rate  \n",
      "0         406113.0        0.034254       0.000675         0.555824  \n",
      "1         157838.0        0.151904       0.002449         0.711416  \n",
      "2           7992.0        0.024782       0.000339         0.578867  \n",
      "3           7765.0        0.103313       0.002872         0.767994  \n",
      "4              0.0        0.156714       0.002138         0.748302  \n",
      "..             ...             ...            ...              ...  \n",
      "221            0.0        0.000009            NaN         0.682337  \n",
      "222            0.0        0.000009            NaN              NaN  \n",
      "223            NaN             NaN            NaN              NaN  \n",
      "224            NaN             NaN            NaN              NaN  \n",
      "225            NaN             NaN            NaN         0.822255  \n",
      "\n",
      "[226 rows x 9 columns]\n"
     ]
    }
   ],
   "source": [
    "for df in dfs:\n",
    "    df['confirmed_rate'] = df['confirmed'] / df['population']\n",
    "    df['deceased_rate'] = df['deceased'] / df['population']\n",
    "    df['vaccinated_rate'] = df['vaccinated'] / df['population']\n",
    "    print(df)"
   ],
   "metadata": {
    "collapsed": false,
    "pycharm": {
     "name": "#%%\n"
    }
   }
  },
  {
   "cell_type": "markdown",
   "source": [
    "## 计算全球变化趋势"
   ],
   "metadata": {
    "collapsed": false,
    "pycharm": {
     "name": "#%% md\n"
    }
   }
  },
  {
   "cell_type": "code",
   "execution_count": 21,
   "outputs": [
    {
     "name": "stdout",
     "output_type": "stream",
     "text": [
      "          day1         day2         day3         day4         day5  \\\n",
      "0  265825970.0  266215281.0  266775236.0  267486343.0  268390355.0   \n",
      "\n",
      "          day6         day7  \n",
      "0  269106111.0  269512224.0  \n"
     ]
    }
   ],
   "source": [
    "world_confirmed = pd.DataFrame(dfs[0].loc[[0], ['confirmed']])\n",
    "world_confirmed.rename(columns={'confirmed': 'day1'}, inplace=True)\n",
    "for i in range(1, len_dfs):\n",
    "    world_confirmed = pd.concat([world_confirmed, dfs[i].loc[[0], ['confirmed']]], axis=1)\n",
    "    world_confirmed.rename(columns={'confirmed': 'day' + str(i + 1)}, inplace=True)\n",
    "print(world_confirmed)\n",
    "\n",
    "world_deceased = pd.DataFrame(dfs[0].loc[[0], ['deceased']])\n",
    "world_deceased.rename(columns={'deceased': 'day1'}, inplace=True)\n",
    "for i in range(1, len_dfs):\n",
    "    world_deceased = pd.concat([world_deceased, dfs[i].loc[[0], ['deceased']]], axis=1)\n",
    "    world_deceased.rename(columns={'deceased': 'day' + str(i + 1)}, inplace=True)\n",
    "\n",
    "world_vaccinated = pd.DataFrame(dfs[0].loc[[0], ['vaccinated']])\n",
    "world_vaccinated.rename(columns={'vaccinated': 'day1'}, inplace=True)\n",
    "for i in range(1, len_dfs):\n",
    "    world_vaccinated = pd.concat([world_vaccinated, dfs[i].loc[[0], ['vaccinated']]], axis=1)\n",
    "    world_vaccinated.rename(columns={'vaccinated': 'day' + str(i + 1)}, inplace=True)"
   ],
   "metadata": {
    "collapsed": false,
    "pycharm": {
     "name": "#%%\n"
    }
   }
  },
  {
   "cell_type": "markdown",
   "source": [
    "## 绘图部分"
   ],
   "metadata": {
    "collapsed": false
   }
  },
  {
   "cell_type": "markdown",
   "source": [
    "### 15日全球疫情总体变化趋势"
   ],
   "metadata": {
    "collapsed": false
   }
  },
  {
   "cell_type": "code",
   "execution_count": null,
   "outputs": [],
   "source": [
    "import pyecharts.options as opts\n",
    "from pyecharts.charts import Line\n",
    "x_data = world_confirmed.columns.values.tolist()\n",
    "\n",
    "y_confirmed = world_confirmed.loc[0].values.tolist()\n",
    "\n",
    "world_trend = (\n",
    "    Line()\n",
    "    .set_global_opts(\n",
    "        tooltip_opts=opts.TooltipOpts(is_show=False),\n",
    "        xaxis_opts=opts.AxisOpts(type_=\"category\"),\n",
    "        yaxis_opts=opts.AxisOpts(type_='value')\n",
    "    )\n",
    "    .add_xaxis(xaxis_data=x_data)\n",
    "    .add_yaxis(series_name=\"\",\n",
    "        y_axis=y_confirmed,)\n",
    ")"
   ],
   "metadata": {
    "collapsed": false,
    "pycharm": {
     "name": "#%%\n"
    }
   }
  }
 ],
 "metadata": {
  "kernelspec": {
   "display_name": "Python 3",
   "language": "python",
   "name": "python3"
  },
  "language_info": {
   "codemirror_mode": {
    "name": "ipython",
    "version": 2
   },
   "file_extension": ".py",
   "mimetype": "text/x-python",
   "name": "python",
   "nbconvert_exporter": "python",
   "pygments_lexer": "ipython2",
   "version": "2.7.6"
  }
 },
 "nbformat": 4,
 "nbformat_minor": 0
}